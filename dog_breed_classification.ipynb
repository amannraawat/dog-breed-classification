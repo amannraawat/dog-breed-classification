{
  "nbformat": 4,
  "nbformat_minor": 0,
  "metadata": {
    "colab": {
      "provenance": [],
      "toc_visible": true,
      "gpuType": "T4",
      "authorship_tag": "ABX9TyPjVh+bxr6UbQIcgmEgcjLt",
      "include_colab_link": true
    },
    "kernelspec": {
      "name": "python3",
      "display_name": "Python 3"
    },
    "language_info": {
      "name": "python"
    },
    "accelerator": "GPU"
  },
  "cells": [
    {
      "cell_type": "markdown",
      "metadata": {
        "id": "view-in-github",
        "colab_type": "text"
      },
      "source": [
        "<a href=\"https://colab.research.google.com/github/amannraawat/dog-breed-classification/blob/master/dog_breed_classification.ipynb\" target=\"_parent\"><img src=\"https://colab.research.google.com/assets/colab-badge.svg\" alt=\"Open In Colab\"/></a>"
      ]
    },
    {
      "cell_type": "markdown",
      "source": [
        "# Multi-Class Dog Breed Classification\n",
        "\n",
        "This notebook builds and end-to-end multi-class classification using Tensorflow.\n",
        "\n",
        "## Problem\n",
        "\n",
        "Identifying the breed of dog from the image.\n",
        "\n",
        "## Data\n",
        "\n",
        "The data we are using is from Dog Breed Identification Competition(Kaggle).\n",
        "\n",
        "https://www.kaggle.com/competitions/dog-breed-identification"
      ],
      "metadata": {
        "id": "KLT1f12MVndr"
      }
    },
    {
      "cell_type": "code",
      "execution_count": 3,
      "metadata": {
        "id": "5h4cX_eRRpzq"
      },
      "outputs": [],
      "source": [
        "# unzip the data into the Google Drive.\n",
        "# !unzip \"drive/My Drive/Dog Vision/dog-breed-identification.zip\" -d \"drive/My Drive/Dog Vision/\""
      ]
    },
    {
      "cell_type": "markdown",
      "source": [
        "### Get Our Workspace Ready"
      ],
      "metadata": {
        "id": "4rjemLJqM2CP"
      }
    },
    {
      "cell_type": "code",
      "source": [
        "# import important libraries\n",
        "\n",
        "import tensorflow as tf\n",
        "import tensorflow_hub as hub"
      ],
      "metadata": {
        "id": "uIEZs-wmCUkw"
      },
      "execution_count": 2,
      "outputs": []
    },
    {
      "cell_type": "code",
      "source": [
        "# check for GPU availability\n",
        "\n",
        "print(\"GPU available\" if tf.config.list_physical_devices(\"GPU\") else \"not available\")"
      ],
      "metadata": {
        "colab": {
          "base_uri": "https://localhost:8080/"
        },
        "id": "aqlpHi-kNe7G",
        "outputId": "3514022b-9177-44c6-de2b-827e7c83b13f"
      },
      "execution_count": 3,
      "outputs": [
        {
          "output_type": "stream",
          "name": "stdout",
          "text": [
            "GPU available\n"
          ]
        }
      ]
    },
    {
      "cell_type": "code",
      "source": [],
      "metadata": {
        "id": "1aJaP5p5N6NO"
      },
      "execution_count": null,
      "outputs": []
    }
  ]
}