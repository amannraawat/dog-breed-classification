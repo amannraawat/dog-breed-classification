{
  "nbformat": 4,
  "nbformat_minor": 0,
  "metadata": {
    "colab": {
      "provenance": [],
      "toc_visible": true,
      "authorship_tag": "ABX9TyMJ+lnNoBKrHOlXcGr0dF7B",
      "include_colab_link": true
    },
    "kernelspec": {
      "name": "python3",
      "display_name": "Python 3"
    },
    "language_info": {
      "name": "python"
    }
  },
  "cells": [
    {
      "cell_type": "markdown",
      "metadata": {
        "id": "view-in-github",
        "colab_type": "text"
      },
      "source": [
        "<a href=\"https://colab.research.google.com/github/amannraawat/dog-breed-classification/blob/master/dog_breed_classification.ipynb\" target=\"_parent\"><img src=\"https://colab.research.google.com/assets/colab-badge.svg\" alt=\"Open In Colab\"/></a>"
      ]
    },
    {
      "cell_type": "markdown",
      "source": [
        "# Multi-Class Dog Breed Classification\n",
        "\n",
        "This notebook builds and end-to-end multi-class classification using Tensorflow.\n",
        "\n",
        "## Problem\n",
        "\n",
        "Identifying the breed of dog from the image.\n",
        "\n",
        "## Data\n",
        "\n",
        "The data we are using is from Dog Breed Identification Competition(Kaggle).\n",
        "\n",
        "https://www.kaggle.com/competitions/dog-breed-identification"
      ],
      "metadata": {
        "id": "KLT1f12MVndr"
      }
    },
    {
      "cell_type": "code",
      "execution_count": 3,
      "metadata": {
        "id": "5h4cX_eRRpzq"
      },
      "outputs": [],
      "source": [
        "# unzip the data into the Google Drive.\n",
        "# !unzip \"drive/My Drive/Dog Vision/dog-breed-identification.zip\" -d \"drive/My Drive/Dog Vision/\""
      ]
    },
    {
      "cell_type": "code",
      "source": [],
      "metadata": {
        "id": "uIEZs-wmCUkw"
      },
      "execution_count": null,
      "outputs": []
    }
  ]
}